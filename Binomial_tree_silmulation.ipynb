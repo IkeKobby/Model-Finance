{
 "cells": [
  {
   "cell_type": "markdown",
   "id": "lined-differential",
   "metadata": {},
   "source": [
    "## Computational Finance Assignment Three"
   ]
  },
  {
   "cell_type": "markdown",
   "id": "former-profile",
   "metadata": {},
   "source": [
    "### Student Code: VP5008RP"
   ]
  },
  {
   "cell_type": "code",
   "execution_count": 1,
   "id": "north-weekly",
   "metadata": {},
   "outputs": [],
   "source": [
    "import numpy as np;\n",
    "import matplotlib.pyplot as plt\n",
    "import math as m\n",
    "import pandas as pd"
   ]
  },
  {
   "cell_type": "markdown",
   "id": "structural-british",
   "metadata": {},
   "source": [
    "### Valuing European put option"
   ]
  },
  {
   "cell_type": "code",
   "execution_count": 2,
   "id": "interim-tournament",
   "metadata": {},
   "outputs": [],
   "source": [
    "class Binomial_tree:\n",
    "    \"\"\"\n",
    "    Binomial Tree method for computing the value of European put options. The class is instantiated\n",
    "    with some predefined variables of S0=5, E=10, r=0.12 and sigma = 0.5; The class compute the value based on \n",
    "    two methods of computing the upward and downward factors once specify in the tree_methods method of the \n",
    "    class object. \"UDP1\" uses the Cox-Ross-Rubenstein method whereas the \"UDP2\" uses the lognormal formula for \n",
    "    the upward and downward factors with each associated probability \"p\".\n",
    "    \n",
    "    \"\"\"\n",
    "    \n",
    "    def __init__(self, E, S0, r, sigma):\n",
    "        self.E = E\n",
    "        self.S0 = S0\n",
    "        self.r = r\n",
    "        self.sigma = sigma\n",
    "    \n",
    "    def tree_methods(self, name, T, M):\n",
    "        dt = T/float(M)\n",
    "        \n",
    "        if name == \"UDP1\":\n",
    "            u = m.exp(self.sigma*m.sqrt(dt))\n",
    "            d =  m.exp(-self.sigma*m.sqrt(dt))\n",
    "            p = (m.exp(self.r*dt)-d)/(u-d)\n",
    "            \n",
    "            assetAtExpiry = (self.S0*d**np.arange(M,-1,-1))*(u**np.arange(0,M+1, 1))\n",
    "        \n",
    "            optionValue_Put = np.maximum(self.E-assetAtExpiry, 0)\n",
    "        \n",
    "            for i in range(int(M)-1,-1,-1):\n",
    "            \n",
    "                optionValue_Put = m.exp(-self.r*dt)*(p*optionValue_Put[range(1, i+2)] + (1-p)*optionValue_Put[range(0,i+1)])\n",
    "    \n",
    "            return optionValue_Put[0]\n",
    "            \n",
    "        \n",
    "        elif name == \"UDP2\":\n",
    "            \n",
    "            u = m.exp(self.sigma*m.sqrt(dt) + (self.r-(self.sigma**2)/2)*dt)\n",
    "            d = m.exp(-self.sigma*m.sqrt(dt) + (self.r-(self.sigma**2)/2)*dt)\n",
    "            p = 0.5\n",
    "            \n",
    "            assetAtExpiry = (self.S0*d**np.arange(M,-1,-1))*(u**np.arange(0,M+1, 1))\n",
    "        \n",
    "            optionValue_Put = np.maximum(self.E-assetAtExpiry, 0)\n",
    "        \n",
    "            for i in range(int(M)-1,-1,-1):\n",
    "            \n",
    "                optionValue_Put = m.exp(-self.r*dt)*(p*optionValue_Put[range(1, i+2)] + (1-p)*optionValue_Put[range(0,i+1)])\n",
    "    \n",
    "            return optionValue_Put[0]\n",
    "\n",
    "tree = Binomial_tree(10, 5, 0.12, 0.5)"
   ]
  },
  {
   "cell_type": "markdown",
   "id": "spare-necessity",
   "metadata": {},
   "source": [
    "#### Initializing the values for M and T"
   ]
  },
  {
   "cell_type": "code",
   "execution_count": 3,
   "id": "frozen-morning",
   "metadata": {},
   "outputs": [],
   "source": [
    "### Values for M upward-steps along the tree and T different expiry periods.\n",
    "M = [16, 32, 64, 128, 256]\n",
    "T = [0.25, 0.50, 0.75, 1.0]"
   ]
  },
  {
   "cell_type": "markdown",
   "id": "automotive-appearance",
   "metadata": {},
   "source": [
    "### get_values function to do calculation for the various M and T values "
   ]
  },
  {
   "cell_type": "code",
   "execution_count": 4,
   "id": "green-pioneer",
   "metadata": {},
   "outputs": [],
   "source": [
    "def get_values(T, M, method):\n",
    "    vals = []\n",
    "    for year in T:\n",
    "        for steps in M:\n",
    "            vals.append(tree.tree_methods(method, year, steps))\n",
    "    values = np.array(vals).reshape(len(T),len(M))\n",
    "    Data_Frame = pd.DataFrame(values, index = [\"T=0.25\", \"T=0.50\", \"T=0.75\", \"T =1.0\"], \n",
    "                              columns = [\"M=16\", \"M=32\", \"M=64\", \"M=128\", \"M=256\"])\n",
    "    return Data_Frame"
   ]
  },
  {
   "cell_type": "markdown",
   "id": "motivated-construction",
   "metadata": {},
   "source": [
    "### UDP1 Method"
   ]
  },
  {
   "cell_type": "markdown",
   "id": "cordless-still",
   "metadata": {},
   "source": [
    "#### Calculating the values for each T using the different values for M"
   ]
  },
  {
   "cell_type": "code",
   "execution_count": 5,
   "id": "exceptional-briefs",
   "metadata": {
    "scrolled": true
   },
   "outputs": [
    {
     "data": {
      "text/html": [
       "<div>\n",
       "<style scoped>\n",
       "    .dataframe tbody tr th:only-of-type {\n",
       "        vertical-align: middle;\n",
       "    }\n",
       "\n",
       "    .dataframe tbody tr th {\n",
       "        vertical-align: top;\n",
       "    }\n",
       "\n",
       "    .dataframe thead th {\n",
       "        text-align: right;\n",
       "    }\n",
       "</style>\n",
       "<table border=\"1\" class=\"dataframe\">\n",
       "  <thead>\n",
       "    <tr style=\"text-align: right;\">\n",
       "      <th></th>\n",
       "      <th>M=16</th>\n",
       "      <th>M=32</th>\n",
       "      <th>M=64</th>\n",
       "      <th>M=128</th>\n",
       "      <th>M=256</th>\n",
       "    </tr>\n",
       "  </thead>\n",
       "  <tbody>\n",
       "    <tr>\n",
       "      <th>T=0.25</th>\n",
       "      <td>4.705996</td>\n",
       "      <td>4.706201</td>\n",
       "      <td>4.706337</td>\n",
       "      <td>4.706516</td>\n",
       "      <td>4.706541</td>\n",
       "    </tr>\n",
       "    <tr>\n",
       "      <th>T=0.50</th>\n",
       "      <td>4.447169</td>\n",
       "      <td>4.451853</td>\n",
       "      <td>4.451639</td>\n",
       "      <td>4.451941</td>\n",
       "      <td>4.452525</td>\n",
       "    </tr>\n",
       "    <tr>\n",
       "      <th>T=0.75</th>\n",
       "      <td>4.239448</td>\n",
       "      <td>4.246108</td>\n",
       "      <td>4.246108</td>\n",
       "      <td>4.245062</td>\n",
       "      <td>4.246187</td>\n",
       "    </tr>\n",
       "    <tr>\n",
       "      <th>T =1.0</th>\n",
       "      <td>4.069143</td>\n",
       "      <td>4.066454</td>\n",
       "      <td>4.073420</td>\n",
       "      <td>4.072181</td>\n",
       "      <td>4.072408</td>\n",
       "    </tr>\n",
       "  </tbody>\n",
       "</table>\n",
       "</div>"
      ],
      "text/plain": [
       "            M=16      M=32      M=64     M=128     M=256\n",
       "T=0.25  4.705996  4.706201  4.706337  4.706516  4.706541\n",
       "T=0.50  4.447169  4.451853  4.451639  4.451941  4.452525\n",
       "T=0.75  4.239448  4.246108  4.246108  4.245062  4.246187\n",
       "T =1.0  4.069143  4.066454  4.073420  4.072181  4.072408"
      ]
     },
     "execution_count": 5,
     "metadata": {},
     "output_type": "execute_result"
    }
   ],
   "source": [
    "get_values(T, M, \"UDP1\")"
   ]
  },
  {
   "cell_type": "markdown",
   "id": "composed-dayton",
   "metadata": {},
   "source": [
    "- UDP1 have values closely related with the output in the given table. The table seem to have approximated values for the UDP1 computation"
   ]
  },
  {
   "cell_type": "markdown",
   "id": "fancy-arcade",
   "metadata": {},
   "source": [
    "### UDP2: Lognormal  Method"
   ]
  },
  {
   "cell_type": "code",
   "execution_count": 6,
   "id": "undefined-activity",
   "metadata": {},
   "outputs": [
    {
     "data": {
      "text/html": [
       "<div>\n",
       "<style scoped>\n",
       "    .dataframe tbody tr th:only-of-type {\n",
       "        vertical-align: middle;\n",
       "    }\n",
       "\n",
       "    .dataframe tbody tr th {\n",
       "        vertical-align: top;\n",
       "    }\n",
       "\n",
       "    .dataframe thead th {\n",
       "        text-align: right;\n",
       "    }\n",
       "</style>\n",
       "<table border=\"1\" class=\"dataframe\">\n",
       "  <thead>\n",
       "    <tr style=\"text-align: right;\">\n",
       "      <th></th>\n",
       "      <th>M=16</th>\n",
       "      <th>M=32</th>\n",
       "      <th>M=64</th>\n",
       "      <th>M=128</th>\n",
       "      <th>M=256</th>\n",
       "    </tr>\n",
       "  </thead>\n",
       "  <tbody>\n",
       "    <tr>\n",
       "      <th>T=0.25</th>\n",
       "      <td>4.706095</td>\n",
       "      <td>4.706235</td>\n",
       "      <td>4.706370</td>\n",
       "      <td>4.706524</td>\n",
       "      <td>4.706551</td>\n",
       "    </tr>\n",
       "    <tr>\n",
       "      <th>T=0.50</th>\n",
       "      <td>4.447134</td>\n",
       "      <td>4.452012</td>\n",
       "      <td>4.451592</td>\n",
       "      <td>4.452069</td>\n",
       "      <td>4.452511</td>\n",
       "    </tr>\n",
       "    <tr>\n",
       "      <th>T=0.75</th>\n",
       "      <td>4.240646</td>\n",
       "      <td>4.246433</td>\n",
       "      <td>4.246370</td>\n",
       "      <td>4.245407</td>\n",
       "      <td>4.246065</td>\n",
       "    </tr>\n",
       "    <tr>\n",
       "      <th>T =1.0</th>\n",
       "      <td>4.069255</td>\n",
       "      <td>4.065847</td>\n",
       "      <td>4.073615</td>\n",
       "      <td>4.071863</td>\n",
       "      <td>4.072777</td>\n",
       "    </tr>\n",
       "  </tbody>\n",
       "</table>\n",
       "</div>"
      ],
      "text/plain": [
       "            M=16      M=32      M=64     M=128     M=256\n",
       "T=0.25  4.706095  4.706235  4.706370  4.706524  4.706551\n",
       "T=0.50  4.447134  4.452012  4.451592  4.452069  4.452511\n",
       "T=0.75  4.240646  4.246433  4.246370  4.245407  4.246065\n",
       "T =1.0  4.069255  4.065847  4.073615  4.071863  4.072777"
      ]
     },
     "execution_count": 6,
     "metadata": {},
     "output_type": "execute_result"
    }
   ],
   "source": [
    "get_values(T, M, \"UDP2\")"
   ]
  },
  {
   "cell_type": "markdown",
   "id": "interracial-advancement",
   "metadata": {},
   "source": [
    "- The UDP2 method for computing the bionomial tree have the same approximations for the put options as the true Black-Scholes values"
   ]
  },
  {
   "cell_type": "code",
   "execution_count": null,
   "id": "impaired-upset",
   "metadata": {},
   "outputs": [],
   "source": []
  }
 ],
 "metadata": {
  "kernelspec": {
   "display_name": "Python 3",
   "language": "python",
   "name": "python3"
  },
  "language_info": {
   "codemirror_mode": {
    "name": "ipython",
    "version": 3
   },
   "file_extension": ".py",
   "mimetype": "text/x-python",
   "name": "python",
   "nbconvert_exporter": "python",
   "pygments_lexer": "ipython3",
   "version": "3.8.5"
  }
 },
 "nbformat": 4,
 "nbformat_minor": 5
}
